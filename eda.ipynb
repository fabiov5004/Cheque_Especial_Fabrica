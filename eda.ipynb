{
 "cells": [
  {
   "cell_type": "code",
   "execution_count": 27,
   "metadata": {},
   "outputs": [],
   "source": [
    "import pandas as pd"
   ]
  },
  {
   "cell_type": "code",
   "execution_count": 28,
   "metadata": {},
   "outputs": [],
   "source": [
    "# carregar arquivos:\n",
    "caminho = r\"C:\\Users\\fabio.varriano\\OneDrive - Sicoob\\01_2025\\fabrica_de_limites\\06.ChequeEspecial\\Data\\Sisbr\\RelEnquadramento0.31328899001719834.csv\"\n",
    "df1 = pd.read_csv(caminho, sep=';', encoding='latin1')"
   ]
  },
  {
   "cell_type": "code",
   "execution_count": 29,
   "metadata": {},
   "outputs": [],
   "source": [
    "# dados de conta corrente do db\n",
    "caminho2 = r\"C:\\Users\\fabio.varriano\\OneDrive - Sicoob\\01_2025\\fabrica_de_limites\\06.ChequeEspecial\\Data\\data_parquet\\conta_corrente\"\n",
    "df2 = pd.read_parquet(caminho2)"
   ]
  },
  {
   "cell_type": "code",
   "execution_count": 30,
   "metadata": {},
   "outputs": [],
   "source": [
    "# carregar dados do PA \n",
    "caminho3 = r\"C:\\Users\\fabio.varriano\\OneDrive - Sicoob\\01_2025\\fabrica_de_limites\\06.ChequeEspecial\\Data\\data_parquet\\dados_pa.parquet\"\n",
    "df3 = pd.read_parquet(caminho3)"
   ]
  },
  {
   "cell_type": "markdown",
   "metadata": {},
   "source": [
    "# EDA Limites"
   ]
  },
  {
   "cell_type": "code",
   "execution_count": 31,
   "metadata": {},
   "outputs": [],
   "source": [
    "limite = df1.copy()"
   ]
  },
  {
   "cell_type": "code",
   "execution_count": 32,
   "metadata": {},
   "outputs": [],
   "source": [
    "# Separar as colunas de interesse:\n",
    "limite = limite[['Data / Hora Enquadramento', 'PA', 'Tipo pessoa',\n",
    "        'CPF /CNPJ', 'Nome Associado', 'Perfil Tomador',\n",
    "        'Submodalidade', 'Limite Automático',\n",
    "       'Utilizado Automático']]\n",
    "# filtrar submodalidade cheqeue especial \n",
    "limite = limite[limite['Submodalidade'] == 'CHEQUE ESPECIAL']\n",
    "# filtrar Limite automático <> de zero e Utilizado automático == de zero\n",
    "limite = limite[(limite['Limite Automático'] != '0,00') &\n",
    "                (limite['Utilizado Automático'] == '0,00')]\n",
    "# ajustar nome da coluna cpf-cnpj\n",
    "limite.rename(columns={'CPF /CNPJ': 'CPF_CNPJ'}, inplace=True)\n",
    "# excluir '.', '/' e '-' do cpf-cnpj\n",
    "limite['CPF_CNPJ'] = limite['CPF_CNPJ'].str.replace('.', '')\n",
    "limite['CPF_CNPJ'] = limite['CPF_CNPJ'].str.replace('/', '')\n",
    "limite['CPF_CNPJ'] = limite['CPF_CNPJ'].str.replace('-', '')\n"
   ]
  },
  {
   "cell_type": "markdown",
   "metadata": {},
   "source": [
    "# EDA Conta Corrente"
   ]
  },
  {
   "cell_type": "code",
   "execution_count": 33,
   "metadata": {},
   "outputs": [],
   "source": [
    "# cópia do df2\n",
    "cc = df2.copy()"
   ]
  },
  {
   "cell_type": "code",
   "execution_count": null,
   "metadata": {},
   "outputs": [],
   "source": [
    "# filtar somente conta corrente ativa \n",
    "cc = cc[cc['Situacao_Conta_Corrente'] == 'ATIVA']\n",
    "# Separar as colunas de interesse:\n",
    "cc = cc[['CPF_CNPJ', 'Nome_Gerente',\n",
    "       'Indicador_Cheque_Especial_Conta_Garantida',\n",
    "       'Valor_Limite_Credito_Contratato']]\n",
    "# agrupar CPF_CNPJ com valor de limite de crédito disponível para contratação \n",
    "cc = cc.groupby('CPF_CNPJ', ).agg({'Valor_Limite_Credito_Contratato': 'sum'}).reset_index()"
   ]
  },
  {
   "cell_type": "code",
   "execution_count": 42,
   "metadata": {},
   "outputs": [],
   "source": [
    "# criar lista de cooperados e o nome do gerente \n",
    "gerente = df2.copy()\n",
    "gerente = gerente[['CPF_CNPJ', 'Nome_Gerente']]\n",
    "gerente.drop_duplicates(inplace=True)"
   ]
  },
  {
   "cell_type": "code",
   "execution_count": 43,
   "metadata": {},
   "outputs": [
    {
     "data": {
      "application/vnd.microsoft.datawrangler.viewer.v0+json": {
       "columns": [
        {
         "name": "index",
         "rawType": "int64",
         "type": "integer"
        },
        {
         "name": "CPF_CNPJ",
         "rawType": "object",
         "type": "string"
        },
        {
         "name": "Nome_Gerente",
         "rawType": "object",
         "type": "string"
        }
       ],
       "conversionMethod": "pd.DataFrame",
       "ref": "6273d1ce-77c4-48d5-abbc-46ff71e49814",
       "rows": [
        [
         "0",
         "39183024824",
         "LUCAS MOREIRA LOPES"
        ],
        [
         "1",
         "43538035000191",
         "ANDERSON RODRIGUES DE OLIVEIRA"
        ],
        [
         "2",
         "70292436173",
         "DANIEL SILVA COELHO"
        ],
        [
         "3",
         "04400675106",
         "ANA LUIZA SOARES SILVA"
        ],
        [
         "4",
         "00435861123",
         "VALDEY BARBOZA PASSOS"
        ]
       ],
       "shape": {
        "columns": 2,
        "rows": 5
       }
      },
      "text/html": [
       "<div>\n",
       "<style scoped>\n",
       "    .dataframe tbody tr th:only-of-type {\n",
       "        vertical-align: middle;\n",
       "    }\n",
       "\n",
       "    .dataframe tbody tr th {\n",
       "        vertical-align: top;\n",
       "    }\n",
       "\n",
       "    .dataframe thead th {\n",
       "        text-align: right;\n",
       "    }\n",
       "</style>\n",
       "<table border=\"1\" class=\"dataframe\">\n",
       "  <thead>\n",
       "    <tr style=\"text-align: right;\">\n",
       "      <th></th>\n",
       "      <th>CPF_CNPJ</th>\n",
       "      <th>Nome_Gerente</th>\n",
       "    </tr>\n",
       "  </thead>\n",
       "  <tbody>\n",
       "    <tr>\n",
       "      <th>0</th>\n",
       "      <td>39183024824</td>\n",
       "      <td>LUCAS MOREIRA LOPES</td>\n",
       "    </tr>\n",
       "    <tr>\n",
       "      <th>1</th>\n",
       "      <td>43538035000191</td>\n",
       "      <td>ANDERSON RODRIGUES DE OLIVEIRA</td>\n",
       "    </tr>\n",
       "    <tr>\n",
       "      <th>2</th>\n",
       "      <td>70292436173</td>\n",
       "      <td>DANIEL SILVA COELHO</td>\n",
       "    </tr>\n",
       "    <tr>\n",
       "      <th>3</th>\n",
       "      <td>04400675106</td>\n",
       "      <td>ANA LUIZA SOARES SILVA</td>\n",
       "    </tr>\n",
       "    <tr>\n",
       "      <th>4</th>\n",
       "      <td>00435861123</td>\n",
       "      <td>VALDEY BARBOZA PASSOS</td>\n",
       "    </tr>\n",
       "  </tbody>\n",
       "</table>\n",
       "</div>"
      ],
      "text/plain": [
       "         CPF_CNPJ                    Nome_Gerente\n",
       "0     39183024824             LUCAS MOREIRA LOPES\n",
       "1  43538035000191  ANDERSON RODRIGUES DE OLIVEIRA\n",
       "2     70292436173             DANIEL SILVA COELHO\n",
       "3     04400675106          ANA LUIZA SOARES SILVA\n",
       "4     00435861123           VALDEY BARBOZA PASSOS"
      ]
     },
     "execution_count": 43,
     "metadata": {},
     "output_type": "execute_result"
    }
   ],
   "source": [
    "gerente.head()"
   ]
  },
  {
   "cell_type": "markdown",
   "metadata": {},
   "source": [
    "# Dados do PA "
   ]
  },
  {
   "cell_type": "code",
   "execution_count": 35,
   "metadata": {},
   "outputs": [],
   "source": [
    "pa = df3.copy()"
   ]
  },
  {
   "cell_type": "code",
   "execution_count": 36,
   "metadata": {},
   "outputs": [],
   "source": [
    "# separar as colunas de interesse\n",
    "pa = pa[['Regiões', 'GA Regional', 'Regional', 'Número PA', 'Nome PA']]\n",
    "# alterar nome da columa PA \n",
    "pa.rename(columns={'Número PA': 'PA'}, inplace=True)"
   ]
  },
  {
   "cell_type": "markdown",
   "metadata": {},
   "source": [
    "# Merge dfs\n"
   ]
  },
  {
   "cell_type": "code",
   "execution_count": 44,
   "metadata": {},
   "outputs": [],
   "source": [
    "# Merge do df limites com o df cc\n",
    "df = pd.merge(limite, cc, on='CPF_CNPJ', how='left')\n",
    "# merge df com o df pa\n",
    "df = pd.merge(df, pa, on='PA', how='left')\n",
    "# slice excluir limite contratado <> 0\n",
    "df = df[df['Valor_Limite_Credito_Contratato'] == 0]\n",
    "# slice excluir valores nulos\n",
    "df = df.dropna(subset=['Valor_Limite_Credito_Contratato'])\n",
    "df = df.merge(gerente, on='CPF_CNPJ', how='left')"
   ]
  },
  {
   "cell_type": "code",
   "execution_count": 48,
   "metadata": {},
   "outputs": [],
   "source": [
    "# reorganizar as colunas do df \n",
    "df = df[['Regiões', 'GA Regional', 'Nome PA','Nome_Gerente', 'CPF_CNPJ', 'Nome Associado','Perfil Tomador' , 'Limite Automático']]"
   ]
  },
  {
   "cell_type": "code",
   "execution_count": 49,
   "metadata": {},
   "outputs": [
    {
     "data": {
      "text/plain": [
       "Index(['Regiões', 'GA Regional', 'Nome PA', 'Nome_Gerente', 'CPF_CNPJ',\n",
       "       'Nome Associado', 'Perfil Tomador', 'Limite Automático'],\n",
       "      dtype='object')"
      ]
     },
     "execution_count": 49,
     "metadata": {},
     "output_type": "execute_result"
    }
   ],
   "source": [
    "df.columns"
   ]
  },
  {
   "cell_type": "code",
   "execution_count": 50,
   "metadata": {},
   "outputs": [
    {
     "data": {
      "application/vnd.microsoft.datawrangler.viewer.v0+json": {
       "columns": [
        {
         "name": "index",
         "rawType": "int64",
         "type": "integer"
        },
        {
         "name": "Regiões",
         "rawType": "object",
         "type": "string"
        },
        {
         "name": "GA Regional",
         "rawType": "object",
         "type": "string"
        },
        {
         "name": "Nome PA",
         "rawType": "object",
         "type": "string"
        },
        {
         "name": "Nome_Gerente",
         "rawType": "object",
         "type": "string"
        },
        {
         "name": "CPF_CNPJ",
         "rawType": "object",
         "type": "string"
        },
        {
         "name": "Nome Associado",
         "rawType": "object",
         "type": "string"
        },
        {
         "name": "Perfil Tomador",
         "rawType": "object",
         "type": "string"
        },
        {
         "name": "Limite Automático",
         "rawType": "object",
         "type": "string"
        }
       ],
       "conversionMethod": "pd.DataFrame",
       "ref": "aa930fc6-ed31-4172-8f5e-8aa5ac479b81",
       "rows": [
        [
         "0",
         "SP2",
         "SP2 - GR1 - Marcelino",
         "108 - MARÍLIA",
         "MARILIA GASPAR MAGNANE",
         "08813745800",
         "LUIS FERNANDO MARTINS",
         "PERFIL PF 3",
         "10.000,00"
        ],
        [
         "1",
         "TO",
         "TO - GR1 - Fábio Brito",
         "13 - ARAGUAÍNA",
         "GERSON BARBOSA PONTES",
         "36443886000195",
         "K. A. D. SILVA LTDA",
         "PERFIL PJ 8",
         "2.500,00"
        ],
        [
         "2",
         "DIGITAL",
         "DIGITAL",
         "97 - ATENDIMENTO DIGITAL",
         "DANILO ANDRADE MORAIS",
         "92500595153",
         "RODRIGO VIEIRA URANI",
         "PERFIL PF-DIGITAL 2",
         "7.000,00"
        ],
        [
         "3",
         "DF",
         "DF - GR1 - Valeria",
         "09 - TAGUATINGA",
         "JEFFERSON EDUARDO GOMES DA SILVA",
         "00292734123",
         "LAURENCE FURTADO E SOUZA",
         "PERFIL PF-NOVO 1",
         "10.000,00"
        ],
        [
         "4",
         "DIGITAL",
         "DIGITAL",
         "97 - ATENDIMENTO DIGITAL",
         "ANA LUIZA SOARES SILVA",
         "79824994149",
         "JANAINA BORGES DOS SANTOS SOUSA",
         "PERFIL PF.DIGITAL-NOVO 3",
         "7.000,00"
        ]
       ],
       "shape": {
        "columns": 8,
        "rows": 5
       }
      },
      "text/html": [
       "<div>\n",
       "<style scoped>\n",
       "    .dataframe tbody tr th:only-of-type {\n",
       "        vertical-align: middle;\n",
       "    }\n",
       "\n",
       "    .dataframe tbody tr th {\n",
       "        vertical-align: top;\n",
       "    }\n",
       "\n",
       "    .dataframe thead th {\n",
       "        text-align: right;\n",
       "    }\n",
       "</style>\n",
       "<table border=\"1\" class=\"dataframe\">\n",
       "  <thead>\n",
       "    <tr style=\"text-align: right;\">\n",
       "      <th></th>\n",
       "      <th>Regiões</th>\n",
       "      <th>GA Regional</th>\n",
       "      <th>Nome PA</th>\n",
       "      <th>Nome_Gerente</th>\n",
       "      <th>CPF_CNPJ</th>\n",
       "      <th>Nome Associado</th>\n",
       "      <th>Perfil Tomador</th>\n",
       "      <th>Limite Automático</th>\n",
       "    </tr>\n",
       "  </thead>\n",
       "  <tbody>\n",
       "    <tr>\n",
       "      <th>0</th>\n",
       "      <td>SP2</td>\n",
       "      <td>SP2 - GR1 - Marcelino</td>\n",
       "      <td>108 - MARÍLIA</td>\n",
       "      <td>MARILIA GASPAR MAGNANE</td>\n",
       "      <td>08813745800</td>\n",
       "      <td>LUIS FERNANDO MARTINS</td>\n",
       "      <td>PERFIL PF 3</td>\n",
       "      <td>10.000,00</td>\n",
       "    </tr>\n",
       "    <tr>\n",
       "      <th>1</th>\n",
       "      <td>TO</td>\n",
       "      <td>TO - GR1 - Fábio Brito</td>\n",
       "      <td>13 - ARAGUAÍNA</td>\n",
       "      <td>GERSON BARBOSA PONTES</td>\n",
       "      <td>36443886000195</td>\n",
       "      <td>K. A. D. SILVA LTDA</td>\n",
       "      <td>PERFIL PJ 8</td>\n",
       "      <td>2.500,00</td>\n",
       "    </tr>\n",
       "    <tr>\n",
       "      <th>2</th>\n",
       "      <td>DIGITAL</td>\n",
       "      <td>DIGITAL</td>\n",
       "      <td>97 - ATENDIMENTO DIGITAL</td>\n",
       "      <td>DANILO ANDRADE MORAIS</td>\n",
       "      <td>92500595153</td>\n",
       "      <td>RODRIGO VIEIRA URANI</td>\n",
       "      <td>PERFIL PF-DIGITAL 2</td>\n",
       "      <td>7.000,00</td>\n",
       "    </tr>\n",
       "    <tr>\n",
       "      <th>3</th>\n",
       "      <td>DF</td>\n",
       "      <td>DF - GR1 - Valeria</td>\n",
       "      <td>09 - TAGUATINGA</td>\n",
       "      <td>JEFFERSON EDUARDO GOMES DA SILVA</td>\n",
       "      <td>00292734123</td>\n",
       "      <td>LAURENCE FURTADO E SOUZA</td>\n",
       "      <td>PERFIL PF-NOVO 1</td>\n",
       "      <td>10.000,00</td>\n",
       "    </tr>\n",
       "    <tr>\n",
       "      <th>4</th>\n",
       "      <td>DIGITAL</td>\n",
       "      <td>DIGITAL</td>\n",
       "      <td>97 - ATENDIMENTO DIGITAL</td>\n",
       "      <td>ANA LUIZA SOARES SILVA</td>\n",
       "      <td>79824994149</td>\n",
       "      <td>JANAINA BORGES DOS SANTOS SOUSA</td>\n",
       "      <td>PERFIL PF.DIGITAL-NOVO 3</td>\n",
       "      <td>7.000,00</td>\n",
       "    </tr>\n",
       "  </tbody>\n",
       "</table>\n",
       "</div>"
      ],
      "text/plain": [
       "   Regiões             GA Regional                   Nome PA  \\\n",
       "0      SP2   SP2 - GR1 - Marcelino             108 - MARÍLIA   \n",
       "1       TO  TO - GR1 - Fábio Brito            13 - ARAGUAÍNA   \n",
       "2  DIGITAL                 DIGITAL  97 - ATENDIMENTO DIGITAL   \n",
       "3       DF      DF - GR1 - Valeria           09 - TAGUATINGA   \n",
       "4  DIGITAL                 DIGITAL  97 - ATENDIMENTO DIGITAL   \n",
       "\n",
       "                       Nome_Gerente        CPF_CNPJ  \\\n",
       "0            MARILIA GASPAR MAGNANE     08813745800   \n",
       "1             GERSON BARBOSA PONTES  36443886000195   \n",
       "2             DANILO ANDRADE MORAIS     92500595153   \n",
       "3  JEFFERSON EDUARDO GOMES DA SILVA     00292734123   \n",
       "4            ANA LUIZA SOARES SILVA     79824994149   \n",
       "\n",
       "                    Nome Associado            Perfil Tomador Limite Automático  \n",
       "0            LUIS FERNANDO MARTINS               PERFIL PF 3         10.000,00  \n",
       "1              K. A. D. SILVA LTDA               PERFIL PJ 8          2.500,00  \n",
       "2             RODRIGO VIEIRA URANI       PERFIL PF-DIGITAL 2          7.000,00  \n",
       "3         LAURENCE FURTADO E SOUZA          PERFIL PF-NOVO 1         10.000,00  \n",
       "4  JANAINA BORGES DOS SANTOS SOUSA  PERFIL PF.DIGITAL-NOVO 3          7.000,00  "
      ]
     },
     "execution_count": 50,
     "metadata": {},
     "output_type": "execute_result"
    }
   ],
   "source": [
    "df.head()"
   ]
  },
  {
   "cell_type": "code",
   "execution_count": 51,
   "metadata": {},
   "outputs": [],
   "source": [
    "# salvar arquivo \n",
    "df.to_excel(r'C:\\Users\\fabio.varriano\\OneDrive - Sicoob\\01_2025\\fabrica_de_limites\\06.ChequeEspecial\\output\\limite_cheque_especial_fabrica.xlsx', index=False)\n"
   ]
  }
 ],
 "metadata": {
  "kernelspec": {
   "display_name": "Python 3",
   "language": "python",
   "name": "python3"
  },
  "language_info": {
   "codemirror_mode": {
    "name": "ipython",
    "version": 3
   },
   "file_extension": ".py",
   "mimetype": "text/x-python",
   "name": "python",
   "nbconvert_exporter": "python",
   "pygments_lexer": "ipython3",
   "version": "3.12.9"
  }
 },
 "nbformat": 4,
 "nbformat_minor": 2
}
